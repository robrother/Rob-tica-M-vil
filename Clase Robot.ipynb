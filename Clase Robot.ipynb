{
 "cells": [
  {
   "cell_type": "markdown",
   "metadata": {},
   "source": [
    "# Programación de un robot Móvil\n",
    "\n",
    "Esta práctica consiste en poder graficar el movimiento de un robot dado un control, haciendo uso de la cinemática directa "
   ]
  },
  {
   "cell_type": "markdown",
   "metadata": {},
   "source": [
    "Se realizarán las importaciones de las librerías necesarias para que se pueda gráficar "
   ]
  },
  {
   "cell_type": "code",
   "execution_count": 1,
   "metadata": {},
   "outputs": [],
   "source": [
    "# importar el módulo pyplot\n",
    "import matplotlib.pyplot as plt\n",
    "import math"
   ]
  },
  {
   "cell_type": "markdown",
   "metadata": {},
   "source": [
    "Se crea una clase denominada Robot que será encargada de poder calcular la posición del cuerpo del robot una vez que se establecen las condiciones iniciales y un control dado"
   ]
  },
  {
   "cell_type": "code",
   "execution_count": 2,
   "metadata": {},
   "outputs": [],
   "source": [
    "class Robot():\n",
    "    def __init__(self, max_dof, q, body):\n",
    "        self.max_dof = 3        # grados de libertad del robot\n",
    "        self.q = [x, y, theta]  # condiciones iniciales\n",
    "        self.body = polygon\n",
    "        \n",
    "    def getConfig():\n",
    "        return q\n",
    "    \n",
    "    def getRotation(q):\n",
    "        theta = q[2]\n",
    "        xrot = q[0]*math.cos(theta) - q[1]*math.sin(theta)\n",
    "        yrot = q[0]*math.sin(theta) + q[1]*math.cos(theta)\n",
    "        return R = [xrot, yrot, theta]\n",
    "    \n",
    "    def getTranslation(q):\n",
    "        x=q[0]\n",
    "        y=q[1]\n",
    "    \n",
    "    def getTranslatedBody(q):\n",
    "        Body= {V, E}\n",
    "        V= {p1, p2, p3}\n",
    "        p1= (1,0)\n",
    "        p2= (-1,1)\n",
    "        p3= (-1,-1)\n",
    "        E= {(V[0],V[1]),(V[1],V[2]),(V[2],V[0])}\n",
    "        R=getRotation(q)\n",
    "        T=getTranslation(q)\n",
    "        for p in V:\n",
    "            p1= getRotation(p)\n",
    "            p1+= T\n",
    "            \n",
    "        \n",
    "    "
   ]
  },
  {
   "cell_type": "code",
   "execution_count": null,
   "metadata": {},
   "outputs": [],
   "source": []
  }
 ],
 "metadata": {
  "kernelspec": {
   "display_name": "Python 3",
   "language": "python",
   "name": "python3"
  },
  "language_info": {
   "codemirror_mode": {
    "name": "ipython",
    "version": 3
   },
   "file_extension": ".py",
   "mimetype": "text/x-python",
   "name": "python",
   "nbconvert_exporter": "python",
   "pygments_lexer": "ipython3",
   "version": "3.6.3"
  }
 },
 "nbformat": 4,
 "nbformat_minor": 2
}
