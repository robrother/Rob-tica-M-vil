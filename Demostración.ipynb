{
 "cells": [
  {
   "cell_type": "markdown",
   "metadata": {},
   "source": [
    "# Demostrar que:\n",
    "\n",
    "Demostrar que la inversa de una rotación por el ángulo $\\theta$ es igual a la transpuesta"
   ]
  },
  {
   "cell_type": "markdown",
   "metadata": {},
   "source": [
    "Sea la matriz de rotación \n",
    "\\begin{equation}\n",
    "R(\\theta) = \n",
    "\\begin{bmatrix}\n",
    "\\cos \\theta  & -\\sin \\theta\\\\ \\sin \\theta & \\cos \\theta\n",
    "\\end{bmatrix}\n",
    "\\end{equation}"
   ]
  },
  {
   "cell_type": "markdown",
   "metadata": {},
   "source": [
    "Demostrar que $R^{-1}(\\theta) = R^{T}$"
   ]
  },
  {
   "cell_type": "markdown",
   "metadata": {},
   "source": [
    "Sabiendo que $R(\\theta) \\cdot  R^{-1}(\\theta) = I$"
   ]
  },
  {
   "cell_type": "markdown",
   "metadata": {},
   "source": [
    "Podemos así inferir que $R(\\theta) \\cdot  R^{T}(\\theta) = I$"
   ]
  },
  {
   "cell_type": "markdown",
   "metadata": {},
   "source": [
    "Definimos la matriz transpuesta como:  \n",
    "\\begin{equation}\n",
    "R^{T}(\\theta) = \n",
    "\\begin{bmatrix}\n",
    "\\cos \\theta  & \\sin \\theta\\\\ -\\sin \\theta & \\cos \\theta\n",
    "\\end{bmatrix}\n",
    "\\end{equation}"
   ]
  },
  {
   "cell_type": "markdown",
   "metadata": {},
   "source": [
    "Realizamos la operación entre la matriz $R(\\theta)$ y su transpuesta $R^{T}(\\theta)$"
   ]
  },
  {
   "cell_type": "markdown",
   "metadata": {},
   "source": [
    "$\\begin{bmatrix}\n",
    "\\cos \\theta  & -\\sin \\theta\\\\ \\sin \\theta & \\cos \\theta\n",
    "\\end{bmatrix} \n",
    "\\cdot\n",
    "\\begin{bmatrix}\n",
    "\\cos \\theta  & \\sin \\theta\\\\ -\\sin \\theta & \\cos \\theta\n",
    "\\end{bmatrix} = \\begin{bmatrix}\n",
    "\\cos ^{2} \\theta+\\sin ^{2} \\theta & \\cos\\theta\\sin\\theta-\\sin\\theta\\cos\\theta \\\\ \n",
    " \\sin\\theta\\cos\\theta-\\sin\\theta\\cos\\theta & sin ^{2} \\theta+\\cos ^{2} \\theta\n",
    "\\end{bmatrix}$"
   ]
  },
  {
   "cell_type": "markdown",
   "metadata": {},
   "source": [
    "$= \\begin{bmatrix}\n",
    "\\cos ^{2} \\theta+\\sin ^{2} \\theta & 0 \\\\ \n",
    " 0 & sin ^{2} \\theta+\\cos ^{2} \\theta\n",
    "\\end{bmatrix}$"
   ]
  },
  {
   "cell_type": "markdown",
   "metadata": {},
   "source": [
    "$= \\begin{bmatrix}\n",
    "1 & 0 \\\\ \n",
    " 0 & 1\n",
    "\\end{bmatrix}$"
   ]
  },
  {
   "cell_type": "markdown",
   "metadata": {},
   "source": [
    "Por lo tanto se demuestra que $R^{-1}(\\theta) = R^{T}$"
   ]
  },
  {
   "cell_type": "code",
   "execution_count": null,
   "metadata": {},
   "outputs": [],
   "source": []
  }
 ],
 "metadata": {
  "kernelspec": {
   "display_name": "Python 3",
   "language": "python",
   "name": "python3"
  },
  "language_info": {
   "codemirror_mode": {
    "name": "ipython",
    "version": 3
   },
   "file_extension": ".py",
   "mimetype": "text/x-python",
   "name": "python",
   "nbconvert_exporter": "python",
   "pygments_lexer": "ipython3",
   "version": "3.6.3"
  }
 },
 "nbformat": 4,
 "nbformat_minor": 2
}
